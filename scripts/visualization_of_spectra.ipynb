{
 "cells": [
  {
   "cell_type": "markdown",
   "metadata": {},
   "source": [
    "# Visualization of calculated theoretical spectra from GROMACS"
   ]
  },
  {
   "cell_type": "markdown",
   "metadata": {},
   "source": [
    "First of all, we need to import the relevant libraries for the visualization:"
   ]
  },
  {
   "cell_type": "code",
   "execution_count": 1,
   "metadata": {},
   "outputs": [],
   "source": [
    "import numpy as np\n",
    "import re\n",
    "import subprocess as sp\n",
    "import math\n",
    "import matplotlib.pyplot as plt"
   ]
  },
  {
   "cell_type": "markdown",
   "metadata": {},
   "source": [
    "## Read data from GROMACS files\n",
    "\n",
    "We need to read all the required GROMACS files to calculate the intensities. We need the following files:\n",
    "* Molecular charges (topol.top)\n",
    "* Eigenvectors (eigenvec.trr)\n",
    "* Eigenfrequencies (eigenfreq.xvg)"
   ]
  },
  {
   "cell_type": "code",
   "execution_count": 2,
   "metadata": {},
   "outputs": [],
   "source": [
    "molecule_of_interest = \"quinoline\" # <--- feel free to change to other examples in the GitHub repository\n",
    "path = \"../examples/GAFF-ESP/\" + molecule_of_interest + \"/\"\n",
    "\n",
    "# eigenfrequencies\n",
    "eigenfrequencies = []\n",
    "eigenfrequencies_file = open(path + \"eigenfreq.xvg\", \"r\")\n",
    "for line in eigenfrequencies_file:\n",
    "    if line[0] != \"@\" and line[0] != \"#\":\n",
    "        split_line = re.split(\" +\",line.strip())\n",
    "        eigenfrequencies.append(float(split_line[1]))\n",
    "\n",
    "# eigenvectors\n",
    "eigenvectors = []\n",
    "current_eigenvector = []\n",
    "sp.run(\"/usr/local/gromacs/bin/gmx_d dump -f \" + path + \"eigenvec.trr > \" + path + \"eigenvec.txt\",shell=True)\n",
    "eigenvectors_file = open(path + \"eigenvec.txt\", \"r\")\n",
    "sp.run(\"rm \" + path + \"eigenvec.txt\",shell=True)\n",
    "first_vector_found = False \n",
    "vector_found = False\n",
    "for line in eigenvectors_file:\n",
    "    line = line.strip()\n",
    "    if line[0:3] == \"x (\" and not first_vector_found:\n",
    "        first_vector_found = True\n",
    "    elif line[0:3] == \"x (\" and first_vector_found and not vector_found:\n",
    "        vector_found = True\n",
    "    elif line[0:2] == \"x[\" and first_vector_found and vector_found:\n",
    "        values = re.split(\"[{},]\",line)\n",
    "        current_eigenvector.append([float(values[1]),float(values[2]),float(values[3])])\n",
    "    elif vector_found and first_vector_found:\n",
    "        eigenvectors.append(current_eigenvector)\n",
    "        current_eigenvector = []\n",
    "        vector_found = False\n",
    "eigenvectors.append(current_eigenvector) # don't forget to add the last eigenvector!\n",
    "eigenvectors = np.asarray(eigenvectors)\n",
    "        \n",
    "# charges\n",
    "charges = []\n",
    "charges_file = open(path + \"topol.top\", \"r\")\n",
    "charges_found = 0\n",
    "for line in charges_file:\n",
    "    line = line.strip()\n",
    "    if charges_found == 2 and len(line) != 0:\n",
    "        split_line = re.split(\" +\",line.strip())\n",
    "        charges.append(float(split_line[6]))\n",
    "    elif charges_found == 2 and len(line) == 0:\n",
    "        charges_found = 0\n",
    "    elif \"charge\" in line and charges_found < 2:\n",
    "        charges_found = charges_found + 1\n",
    "charges = np.asarray(charges)"
   ]
  },
  {
   "cell_type": "markdown",
   "metadata": {},
   "source": [
    "## Calculate intensities\n",
    "We are now ready to calculate the intensities based on the same formula that is presented in [this paper](https://doi.org/10.1016/j.cplett.2005.10.097) (Eq. 1)."
   ]
  },
  {
   "cell_type": "code",
   "execution_count": 3,
   "metadata": {},
   "outputs": [],
   "source": [
    "intensities = []\n",
    "for i in range(0,eigenvectors.shape[0]):\n",
    "    intensity = (sum(charges.dot(eigenvectors[i])))**2\n",
    "    intensities.append(intensity)"
   ]
  },
  {
   "cell_type": "markdown",
   "metadata": {},
   "source": [
    "## Plot spectrum\n",
    "\n",
    "To plot the spectra, we need a cauchy distribution function. Let's define it:"
   ]
  },
  {
   "cell_type": "code",
   "execution_count": 4,
   "metadata": {},
   "outputs": [],
   "source": [
    "def create_cauchy_distribution(x,x0,gamma,A):\n",
    "    # x     - NumPy array with points on x-axis (can be generated using e.g. 'np.linspace(1,4000,4001)')\n",
    "    # x0    - median (not mean!) of distribution\n",
    "    # gamma - scale of distribution\n",
    "    # A     - amplitude\n",
    "    y = np.zeros(len(x))\n",
    "    for i in range(0,len(x)):\n",
    "        y[i] = A/(math.pi*gamma*(1+((x[i]-x0)/gamma)**2))\n",
    "    return y"
   ]
  },
  {
   "cell_type": "markdown",
   "metadata": {},
   "source": [
    "We can also define out own normal distribution function while we are at it:"
   ]
  },
  {
   "cell_type": "code",
   "execution_count": 5,
   "metadata": {},
   "outputs": [],
   "source": [
    "def create_normal_distribution(x,mu,sigma,A):\n",
    "    # x     - NumPy array with points on x-axis (can be generated using e.g. 'np.linspace(1,4000,4001)')\n",
    "    # mu    - mean of distribution\n",
    "    # sigma - strandard deviation of distribution\n",
    "    # A     - amplitude\n",
    "    y = np.zeros(len(x))\n",
    "    for i in range(0,len(x)):\n",
    "        y[i] = A/math.sqrt(2*math.pi*sigma)*math.exp(-(x[i]-mu)**2/(2*sigma**2))\n",
    "    return y"
   ]
  },
  {
   "cell_type": "markdown",
   "metadata": {},
   "source": [
    "And now, lets plot!"
   ]
  },
  {
   "cell_type": "code",
   "execution_count": 6,
   "metadata": {},
   "outputs": [
    {
     "data": {
      "text/plain": [
       "Text(0.5, 1.0, 'Normal distribution')"
      ]
     },
     "execution_count": 6,
     "metadata": {},
     "output_type": "execute_result"
    },
    {
     "data": {
      "image/png": "[encoded data removed]",
      "text/plain": [
       "<Figure size 432x288 with 1 Axes>"
      ]
     },
     "metadata": {
      "needs_background": "light"
     },
     "output_type": "display_data"
    },
    {
     "data": {
      "image/png": "[encoded data removed]",
      "text/plain": [
       "<Figure size 432x288 with 1 Axes>"
      ]
     },
     "metadata": {
      "needs_background": "light"
     },
     "output_type": "display_data"
    }
   ],
   "source": [
    "x = np.linspace(1,4000,4001)\n",
    "\n",
    "y_cauchy_tot = np.zeros(len(x))\n",
    "y_normal_tot = np.zeros(len(x))\n",
    "\n",
    "# Set parameters; these will determine how clear the peaks are. I'm not sure how to set these!\n",
    "scale = 5\n",
    "sigma = 20/(2*(2*math.log(2))**0.5) # the '20' in the numerator represents 20 FWHM as I saw in a paper (can look it up if necessary)\n",
    "\n",
    "# Is the molecule linear?\n",
    "molecule_is_linear = False # <--- change this to specify whether the molecule is linear or not\n",
    "if molecule_is_linear:\n",
    "    no_of_non_vibrational = 5\n",
    "else:\n",
    "    no_of_non_vibrational = 6\n",
    "\n",
    "for i in range(no_of_non_vibrational,len(eigenfrequencies)):\n",
    "    # cauchy distribution\n",
    "    y_cauchy = create_cauchy_distribution(x,eigenfrequencies[i],scale,intensities[i])\n",
    "    y_cauchy_tot = y_cauchy_tot + y_cauchy\n",
    "    # normal distribution\n",
    "    y_normal = create_normal_distribution(x,eigenfrequencies[i],sigma,intensities[i])\n",
    "    y_normal_tot = y_normal_tot + y_normal\n",
    "\n",
    "# Normalize (optional)\n",
    "y_cauchy_tot = y_cauchy_tot/np.amax(y_cauchy_tot)\n",
    "y_normal_tot = y_normal_tot/np.amax(y_normal_tot)\n",
    "\n",
    "plt.figure()\n",
    "plt.plot(x,y_cauchy_tot)\n",
    "plt.title(\"Cauchy distribution\")\n",
    "\n",
    "plt.figure()\n",
    "plt.plot(x,y_normal_tot)\n",
    "plt.title(\"Normal distribution\")"
   ]
  },
  {
   "cell_type": "code",
   "execution_count": null,
   "metadata": {},
   "outputs": [],
   "source": []
  }
 ],
 "metadata": {
  "kernelspec": {
   "display_name": "Python 3",
   "language": "python",
   "name": "python3"
  },
  "language_info": {
   "codemirror_mode": {
    "name": "ipython",
    "version": 3
   },
   "file_extension": ".py",
   "mimetype": "text/x-python",
   "name": "python",
   "nbconvert_exporter": "python",
   "pygments_lexer": "ipython3",
   "version": "3.6.7"
  }
 },
 "nbformat": 4,
 "nbformat_minor": 2
}
